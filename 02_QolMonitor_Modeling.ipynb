{
  "nbformat": 4,
  "nbformat_minor": 0,
  "metadata": {
    "colab": {
      "name": "02-QolMonitor-Modeling.ipynb",
      "provenance": [],
      "collapsed_sections": [],
      "toc_visible": true,
      "authorship_tag": "ABX9TyNL400fVS7RepvetLKNrSG3",
      "include_colab_link": true
    },
    "kernelspec": {
      "name": "python3",
      "display_name": "Python 3"
    },
    "language_info": {
      "name": "python"
    }
  },
  "cells": [
    {
      "cell_type": "markdown",
      "metadata": {
        "id": "view-in-github",
        "colab_type": "text"
      },
      "source": [
        "<a href=\"https://colab.research.google.com/github/pedroalmir/qol-poc-results/blob/main/02_QolMonitor_Modeling.ipynb\" target=\"_parent\"><img src=\"https://colab.research.google.com/assets/colab-badge.svg\" alt=\"Open In Colab\"/></a>"
      ]
    },
    {
      "cell_type": "markdown",
      "source": [
        "# QoL Monitor - Modeling\n",
        "\n",
        "For the Machine Learning algorithms modeling, we decided to use the Scikit-learn toolbox due to its high acceptance in the scientific community and the consistency of its results."
      ],
      "metadata": {
        "id": "0XiTjyj-2lMy"
      }
    },
    {
      "cell_type": "markdown",
      "source": [
        "## Required Imports"
      ],
      "metadata": {
        "id": "zfueeaGY4IXk"
      }
    },
    {
      "cell_type": "code",
      "source": [
        "import time\n",
        "import gspread\n",
        "import numpy as np\n",
        "import pandas as pd\n",
        "from google.colab import auth\n",
        "from google.colab import drive\n",
        "from google.auth import default\n",
        "from pydrive.auth import GoogleAuth\n",
        "from pydrive.drive import GoogleDrive\n",
        "from sklearn.linear_model import Lasso\n",
        "from sklearn.model_selection import KFold\n",
        "from sklearn.pipeline import make_pipeline\n",
        "from sklearn.metrics import mean_squared_error\n",
        "from sklearn.tree import DecisionTreeRegressor\n",
        "from sklearn.preprocessing import RobustScaler\n",
        "from sklearn.model_selection import GridSearchCV\n",
        "from oauth2client.client import GoogleCredentials\n",
        "from sklearn.linear_model import LinearRegression\n",
        "from sklearn.model_selection import cross_val_score\n",
        "from sklearn.model_selection import StratifiedShuffleSplit\n",
        "from sklearn.ensemble import RandomForestRegressor, GradientBoostingRegressor"
      ],
      "metadata": {
        "id": "ilqC5YcR4M3E"
      },
      "execution_count": null,
      "outputs": []
    },
    {
      "cell_type": "markdown",
      "source": [
        "## Google Authentication"
      ],
      "metadata": {
        "id": "pNdJCWYM4RIP"
      }
    },
    {
      "cell_type": "code",
      "source": [
        "auth.authenticate_user()\n",
        "gauth = GoogleAuth()\n",
        "gauth.credentials = GoogleCredentials.get_application_default()\n",
        "drive = GoogleDrive(gauth)\n",
        "creds, _ = default()"
      ],
      "metadata": {
        "id": "1WJZOjde4R0X"
      },
      "execution_count": null,
      "outputs": []
    },
    {
      "cell_type": "markdown",
      "source": [
        "## Getting Processed Data"
      ],
      "metadata": {
        "id": "WtkHPhbm4SOg"
      }
    },
    {
      "cell_type": "code",
      "source": [
        "def getSheetAsDf(spreadsheetName, sheetName):\n",
        "    spreadsheet = gc.open(spreadsheetName)\n",
        "    dataset = spreadsheet.worksheet(sheetName).get_all_values()\n",
        "    df = pd.DataFrame.from_records(dataset)\n",
        "    header = df.iloc[0]\n",
        "    df = df[1:]\n",
        "    df.columns = header\n",
        "    return df"
      ],
      "metadata": {
        "id": "fBNhzn8A6OLI"
      },
      "execution_count": null,
      "outputs": []
    },
    {
      "cell_type": "code",
      "source": [
        "gc = gspread.authorize(creds)\n",
        "\n",
        "df_physical = getSheetAsDf('QoL Monitor - Preprocessed Data', 'dataset_phy')\n",
        "df_psychological = getSheetAsDf('QoL Monitor - Preprocessed Data', 'dataset_psy')"
      ],
      "metadata": {
        "id": "6hfZGsK04XPD"
      },
      "execution_count": null,
      "outputs": []
    },
    {
      "cell_type": "markdown",
      "source": [
        "## Stratifying our dataset"
      ],
      "metadata": {
        "id": "g_0qtEkV5ou_"
      }
    },
    {
      "cell_type": "code",
      "source": [
        "# Separating predictors from the values to be predicted.\n",
        "physical = df_physical.drop(\"phy_ref_score\", axis=1)\n",
        "physical_pred = df_physical[\"phy_ref_score\"].copy()\n",
        "\n",
        "psychological = df_psychological.drop(\"psy_ref_score\", axis=1)\n",
        "psychological_pred = df_psychological[\"psy_ref_score\"].copy()\n",
        "\n",
        "print('Shapes', physical.shape, physical_pred.shape, psychological.shape, psychological_pred.shape)"
      ],
      "metadata": {
        "colab": {
          "base_uri": "https://localhost:8080/"
        },
        "id": "fczdsIoa5vwW",
        "outputId": "0b73a7f9-1c1e-4107-87e3-28d4e1f67491"
      },
      "execution_count": null,
      "outputs": [
        {
          "output_type": "stream",
          "name": "stdout",
          "text": [
            "Shapes (710, 86) (710,) (710, 86) (710,)\n"
          ]
        }
      ]
    },
    {
      "cell_type": "markdown",
      "source": [
        "## Training regression models"
      ],
      "metadata": {
        "id": "dxbXa0u-_D4L"
      }
    },
    {
      "cell_type": "code",
      "source": [
        "def rmsle_cv(name, model, n_folds, X, y):\n",
        "    start = time.time()\n",
        "    kf = KFold(n_folds, shuffle = True, random_state = 42).get_n_splits(X.values)\n",
        "    rmse = np.sqrt(-cross_val_score(model, X.values, y, scoring = \"neg_mean_squared_error\", cv = kf))\n",
        "    mae = -cross_val_score(model, X.values, y, scoring = \"neg_mean_absolute_error\", cv = kf)\n",
        "    r2 = cross_val_score(model, X.values, y, scoring = \"r2\", cv = kf)\n",
        "    end = time.time()\n",
        "    print(name)\n",
        "    print(\"\\t|_ MAE scores  - Mean: {:.4f}, STD: {:.4f}\".format(mae.mean(), mae.std()))\n",
        "    print(\"\\t|_ RMSE scores - Mean: {:.4f}, STD: {:.4f}\".format(rmse.mean(), rmse.std()))\n",
        "    print(\"\\t|_ Exec. Time (in seconds):\", end - start)\n",
        "    #return(rmse)"
      ],
      "metadata": {
        "id": "MljDJpCW7AmL"
      },
      "execution_count": null,
      "outputs": []
    },
    {
      "cell_type": "code",
      "source": [
        "def getDataset(domain):\n",
        "    return {\n",
        "        'physical': (physical, physical_pred),\n",
        "        'psychological': (psychological, psychological_pred),\n",
        "    }[domain]    "
      ],
      "metadata": {
        "id": "0z50UIat-fsq"
      },
      "execution_count": null,
      "outputs": []
    },
    {
      "cell_type": "code",
      "source": [
        "def modelingRegressors(domain):\n",
        "    X, y = getDataset(domain)\n",
        "    print('Modeling regressors for', domain, 'domain')\n",
        "    rmsle_cv(\"Linear Regression\", LinearRegression(), 10, X, y)\n",
        "    rmsle_cv(\"Decision Tree Regressor\", DecisionTreeRegressor(), 10, X, y)\n",
        "    rmsle_cv(\"Random Forest Regressor\", RandomForestRegressor(), 10, X, y)\n",
        "    \n",
        "    GBoost = GradientBoostingRegressor(n_estimators=3000, learning_rate=0.05,\n",
        "                                   max_depth=4, max_features='sqrt',\n",
        "                                   min_samples_leaf=15, min_samples_split=10, \n",
        "                                   loss='huber', random_state =5)\n",
        "    \n",
        "    rmsle_cv(\"GBoost Regressor\", GBoost, 10, X, y)"
      ],
      "metadata": {
        "id": "BWvwntqSAI6h"
      },
      "execution_count": null,
      "outputs": []
    },
    {
      "cell_type": "code",
      "source": [
        "modelingRegressors('physical')"
      ],
      "metadata": {
        "colab": {
          "base_uri": "https://localhost:8080/"
        },
        "id": "pdYUf6N1B0Z1",
        "outputId": "e5a95b59-3cdb-4a19-b62b-3b2fb5c27fc7"
      },
      "execution_count": null,
      "outputs": [
        {
          "output_type": "stream",
          "name": "stdout",
          "text": [
            "Modeling regressors for physical domain\n",
            "Linear Regression\n",
            "\t|_ MAE scores  - Mean: 6.5866, STD: 1.7582\n",
            "\t|_ RMSE scores - Mean: 8.8457, STD: 2.9102\n",
            "\t|_ Exec. Time (in seconds): 0.6453731060028076\n",
            "Decision Tree Regressor\n",
            "\t|_ MAE scores  - Mean: 6.1465, STD: 1.6188\n",
            "\t|_ RMSE scores - Mean: 9.3685, STD: 2.7071\n",
            "\t|_ Exec. Time (in seconds): 0.7077336311340332\n",
            "Random Forest Regressor\n",
            "\t|_ MAE scores  - Mean: 4.9477, STD: 1.5283\n",
            "\t|_ RMSE scores - Mean: 7.2215, STD: 3.0008\n",
            "\t|_ Exec. Time (in seconds): 26.8660671710968\n",
            "GBoost Regressor\n",
            "\t|_ MAE scores  - Mean: 4.9569, STD: 1.4472\n",
            "\t|_ RMSE scores - Mean: 6.9191, STD: 2.6899\n",
            "\t|_ Exec. Time (in seconds): 390.08537316322327\n"
          ]
        }
      ]
    },
    {
      "cell_type": "code",
      "source": [
        "modelingRegressors('psychological')"
      ],
      "metadata": {
        "colab": {
          "base_uri": "https://localhost:8080/"
        },
        "id": "Vq_Z06BvB7HH",
        "outputId": "cf9fdbb0-4648-4d56-da28-fd63c77232ae"
      },
      "execution_count": null,
      "outputs": [
        {
          "output_type": "stream",
          "name": "stdout",
          "text": [
            "Modeling regressors for psychological domain\n",
            "Linear Regression\n",
            "\t|_ MAE scores  - Mean: 8.1918, STD: 1.9133\n",
            "\t|_ RMSE scores - Mean: 10.6146, STD: 2.4728\n",
            "\t|_ Exec. Time (in seconds): 0.6437489986419678\n",
            "Decision Tree Regressor\n",
            "\t|_ MAE scores  - Mean: 5.8000, STD: 1.7678\n",
            "\t|_ RMSE scores - Mean: 9.5880, STD: 2.3525\n",
            "\t|_ Exec. Time (in seconds): 0.758786678314209\n",
            "Random Forest Regressor\n",
            "\t|_ MAE scores  - Mean: 4.6830, STD: 1.2204\n",
            "\t|_ RMSE scores - Mean: 6.8838, STD: 2.2436\n",
            "\t|_ Exec. Time (in seconds): 29.55673909187317\n",
            "GBoost Regressor\n",
            "\t|_ MAE scores  - Mean: 4.9707, STD: 1.3524\n",
            "\t|_ RMSE scores - Mean: 7.0034, STD: 2.2327\n",
            "\t|_ Exec. Time (in seconds): 394.80068492889404\n"
          ]
        }
      ]
    },
    {
      "cell_type": "markdown",
      "source": [
        "## Grid Search"
      ],
      "metadata": {
        "id": "M70a2l9n21HS"
      }
    },
    {
      "cell_type": "code",
      "source": [
        "def performGridSearch(domain):\n",
        "    param_grid = [\n",
        "        # try 12 (3×4) combinations of hyperparameters\n",
        "        {'n_estimators': [3, 10, 30], 'max_features': [2, 4, 6, 8]},\n",
        "        # then try 6 (2×3) combinations with bootstrap set as False\n",
        "        {'bootstrap': [False], 'n_estimators': [3, 10], 'max_features': [2, 3, 4]},\n",
        "    ]\n",
        "    X, y = getDataset(domain)\n",
        "    forest_reg = RandomForestRegressor(random_state=42)\n",
        "    # train across 10 folds, that's a total of (12+6)*10=180 rounds of training \n",
        "    grid_search = GridSearchCV(forest_reg, param_grid, cv=5, scoring='neg_mean_squared_error', return_train_score=True)\n",
        "    grid_search.fit(X, y)\n",
        "    return grid_search"
      ],
      "metadata": {
        "id": "6fdXzlta29pI"
      },
      "execution_count": null,
      "outputs": []
    },
    {
      "cell_type": "code",
      "source": [
        "grid_search_phy = performGridSearch('physical')\n",
        "print(\"Best parameters for physical domain:\", grid_search_phy.best_params_)\n",
        "print(\"Best estimator for physical domain: \", grid_search_phy.best_estimator_)\n",
        "print(\"Best RMSE score for physical domain:\", np.sqrt(-grid_search_phy.best_score_))"
      ],
      "metadata": {
        "colab": {
          "base_uri": "https://localhost:8080/"
        },
        "id": "l657nk0D3z0r",
        "outputId": "02e76840-0ecf-4aae-b3fd-fadbbe9c9216"
      },
      "execution_count": null,
      "outputs": [
        {
          "output_type": "stream",
          "name": "stdout",
          "text": [
            "Best parameters for physical domain: {'max_features': 6, 'n_estimators': 30}\n",
            "Best estimator for physical domain:  RandomForestRegressor(max_features=6, n_estimators=30, random_state=42)\n",
            "Best score for physical domain:      8.068110587411667\n"
          ]
        }
      ]
    },
    {
      "cell_type": "code",
      "source": [
        "grid_search_psy = performGridSearch('psychological')\n",
        "print(\"Best parameters for psychological domain:\", grid_search_psy.best_params_)\n",
        "print(\"Best estimator for psychological domain: \", grid_search_psy.best_params_)\n",
        "print(\"Best RMSE score for psychological domain:\", np.sqrt(-grid_search_psy.best_score_))"
      ],
      "metadata": {
        "colab": {
          "base_uri": "https://localhost:8080/"
        },
        "id": "uio_KZis4bC0",
        "outputId": "7660d3fd-c75b-4315-e261-1e31193d4068"
      },
      "execution_count": null,
      "outputs": [
        {
          "output_type": "stream",
          "name": "stdout",
          "text": [
            "Best parameters for psychological domain: {'max_features': 6, 'n_estimators': 30}\n",
            "Best estimator for psychological domain:  {'max_features': 6, 'n_estimators': 30}\n",
            "Best RMSE score for psychological domain: 8.240263852378\n"
          ]
        }
      ]
    },
    {
      "cell_type": "markdown",
      "source": [
        "## Getting feature relevance"
      ],
      "metadata": {
        "id": "-Rgpl_Ox2Fx2"
      }
    },
    {
      "cell_type": "code",
      "source": [
        "feature_importances_phy = grid_search_phy.best_estimator_.feature_importances_\n",
        "sorted(zip(feature_importances_phy, df_physical.columns), reverse=True)"
      ],
      "metadata": {
        "colab": {
          "base_uri": "https://localhost:8080/"
        },
        "id": "N5nm0eC32LRM",
        "outputId": "3698fa9d-07d9-4762-be07-a3cbc42d12b8"
      },
      "execution_count": null,
      "outputs": [
        {
          "output_type": "execute_result",
          "data": {
            "text/plain": [
              "[(0.06458776366275285, 'weight'),\n",
              " (0.05788934314164953, 'income'),\n",
              " (0.05537080661681995, 'height'),\n",
              " (0.05229968716362453, 'calories'),\n",
              " (0.05080180223044218, 'children'),\n",
              " (0.04959345298825555, 'personalization'),\n",
              " (0.04611030872585527, 'hr_avg'),\n",
              " (0.03962205208487731, 'maritalstatus_married'),\n",
              " (0.03759277292145109, 'remsleep'),\n",
              " (0.035390219905108565, 'maritalstatus_single'),\n",
              " (0.031462101998616133, 'specificage'),\n",
              " (0.030148283754507833, 'social'),\n",
              " (0.019180289041796673, 'communication'),\n",
              " (0.018676509211538996, 'blockedcalls'),\n",
              " (0.018510740966005145, 'healthfitness'),\n",
              " (0.01610508553971326, 'videoplayerseditors'),\n",
              " (0.015543538416792653, 'gender'),\n",
              " (0.01392731309792876, 'musicaudio'),\n",
              " (0.013925258248051249, 'other'),\n",
              " (0.013498992634696587, 'familyarr'),\n",
              " (0.012765907280436866, 'awakesleep'),\n",
              " (0.012658310778866718, 'hr_min'),\n",
              " (0.012623726095129996, 'walking'),\n",
              " (0.01256390687760054, 'profession_fulltimeworker'),\n",
              " (0.012328131302580687, 'differentlocations'),\n",
              " (0.012089983076610153, 'entertainment'),\n",
              " (0.011087705320264245, 'hr_max'),\n",
              " (0.011027100142568651, 'deepsleep'),\n",
              " (0.010874545450262103, 'shopping'),\n",
              " (0.010863070528943293, 'edulevel'),\n",
              " (0.010689055329014175, 'sports'),\n",
              " (0.010470945364377343, 'finance'),\n",
              " (0.010246157153721023, 'business'),\n",
              " (0.009941360300195703, 'fooddrink'),\n",
              " (0.009543820367699497, 'games'),\n",
              " (0.009519726179254496, 'productivity'),\n",
              " (0.009455181535186522, 'lightsleep'),\n",
              " (0.009382845020198882, 'outgoingcallsaverageduration'),\n",
              " (0.009079214210106278, 'steps'),\n",
              " (0.007947102487908421, 'profession_selfemployed'),\n",
              " (0.007854612692587548, 'photography'),\n",
              " (0.007811632188186044, 'profession_student'),\n",
              " (0.007087082053402047, 'missedcalls'),\n",
              " (0.006649441652254032, 'outgoingcalls'),\n",
              " (0.006484560521977241, 'travellocal'),\n",
              " (0.005534245541498597, 'medical'),\n",
              " (0.005382735792591949, 'mood'),\n",
              " (0.005372579451427566, 'education'),\n",
              " (0.00523987117538211, 'rejectedcalls'),\n",
              " (0.0051667177745169145, 'incomingcallsaverageduration'),\n",
              " (0.004862327130846612, 'autovehicles'),\n",
              " (0.004775117697604558, 'lifestyle'),\n",
              " (0.004536553467378886, 'differentwifi'),\n",
              " (0.004024318805145588, 'whatsappnotification'),\n",
              " (0.003936865428405601, 'mapsnavigation'),\n",
              " (0.00376465375537705, 'invehicle'),\n",
              " (0.002797653847854148, 'profession_parttimeworker'),\n",
              " (0.0023461237930397167, 'running'),\n",
              " (0.0022922191883489574, 'incomingcalls'),\n",
              " (0.0012738417491437073, 'casual'),\n",
              " (0.0012725860704885532, 'newsmagazines'),\n",
              " (0.0009516400928772632, 'whatsappoutvideo'),\n",
              " (0.0008530013530893983, 'whatsappinvoice'),\n",
              " (0.0007641839003699132, 'adventure'),\n",
              " (0.0006366682199531015, 'events'),\n",
              " (0.0005795912012536903, 'weather'),\n",
              " (0.0005378222713408428, 'whatsappoutvoice'),\n",
              " (0.0003934575433869636, 'artdesign'),\n",
              " (0.00029293417941049873, 'music'),\n",
              " (0.00028636235856241757, 'educational'),\n",
              " (0.0002548140284108593, 'librariesdemo'),\n",
              " (0.0002460438876914279, 'househome'),\n",
              " (0.0001869802827392702, 'whatsappinvideo'),\n",
              " (8.248205282495642e-05, 'beauty'),\n",
              " (3.546436694704727e-05, 'booksreference'),\n",
              " (1.8852459836183045e-05, 'biking'),\n",
              " (1.5154604423535518e-05, 'simulation'),\n",
              " (2.5111750162950463e-06, 'arcade'),\n",
              " (2.179092999191903e-06, 'puzzle'),\n",
              " (0.0, 'running(treadmill)'),\n",
              " (0.0, 'residence'),\n",
              " (0.0, 'parenting'),\n",
              " (0.0, 'comics'),\n",
              " (0.0, 'card'),\n",
              " (0.0, 'board'),\n",
              " (0.0, 'action')]"
            ]
          },
          "metadata": {},
          "execution_count": 19
        }
      ]
    },
    {
      "cell_type": "code",
      "source": [
        "feature_importances_psy = grid_search_psy.best_estimator_.feature_importances_\n",
        "sorted(zip(feature_importances_psy, df_psychological.columns), reverse=True)"
      ],
      "metadata": {
        "colab": {
          "base_uri": "https://localhost:8080/"
        },
        "id": "vAPDYc_E5Uc-",
        "outputId": "2676f619-fe7a-412f-b985-90eb4b3736c4"
      },
      "execution_count": null,
      "outputs": [
        {
          "output_type": "execute_result",
          "data": {
            "text/plain": [
              "[(0.0964047661279916, 'income'),\n",
              " (0.07198043929107388, 'height'),\n",
              " (0.04762693034606955, 'hr_avg'),\n",
              " (0.041649024706253514, 'personalization'),\n",
              " (0.04032325463449599, 'blockedcalls'),\n",
              " (0.03785569919272723, 'weight'),\n",
              " (0.03355596780636753, 'business'),\n",
              " (0.030983182795119187, 'calories'),\n",
              " (0.030072519898700502, 'communication'),\n",
              " (0.029087057686748987, 'hr_max'),\n",
              " (0.02712446936079872, 'social'),\n",
              " (0.02575325347820097, 'musicaudio'),\n",
              " (0.025676413038303852, 'specificage'),\n",
              " (0.02415977700658549, 'videoplayerseditors'),\n",
              " (0.022641374276148058, 'hr_min'),\n",
              " (0.019949798837992045, 'maritalstatus_married'),\n",
              " (0.019729550887396242, 'lifestyle'),\n",
              " (0.019108391157890994, 'remsleep'),\n",
              " (0.018731425978330402, 'maritalstatus_single'),\n",
              " (0.018058154241326032, 'familyarr'),\n",
              " (0.017885793391197814, 'awakesleep'),\n",
              " (0.01654334994260197, 'edulevel'),\n",
              " (0.016423328086180147, 'mood'),\n",
              " (0.016059282269957967, 'steps'),\n",
              " (0.01599013475554473, 'education'),\n",
              " (0.01591867784993645, 'whatsappnotification'),\n",
              " (0.01506202377649631, 'healthfitness'),\n",
              " (0.012771608207326781, 'finance'),\n",
              " (0.012758706032343158, 'lightsleep'),\n",
              " (0.012725917292629058, 'walking'),\n",
              " (0.012183602642708367, 'deepsleep'),\n",
              " (0.0107975436287179, 'photography'),\n",
              " (0.009981181135259564, 'productivity'),\n",
              " (0.009603047550461633, 'other'),\n",
              " (0.009355890485877745, 'travellocal'),\n",
              " (0.0092616634506342, 'entertainment'),\n",
              " (0.008651062755372458, 'profession_fulltimeworker'),\n",
              " (0.007389640769158671, 'games'),\n",
              " (0.006969082861279833, 'invehicle'),\n",
              " (0.00623988123076421, 'differentlocations'),\n",
              " (0.005661702846212533, 'children'),\n",
              " (0.005511803555405547, 'outgoingcalls'),\n",
              " (0.005170071402142527, 'outgoingcallsaverageduration'),\n",
              " (0.005161493818927182, 'incomingcallsaverageduration'),\n",
              " (0.00514505327055967, 'shopping'),\n",
              " (0.005118757684130044, 'gender'),\n",
              " (0.004725699906806788, 'fooddrink'),\n",
              " (0.004280652794198035, 'differentwifi'),\n",
              " (0.0041806712573245666, 'casual'),\n",
              " (0.004178950846472905, 'mapsnavigation'),\n",
              " (0.003737266888336123, 'profession_student'),\n",
              " (0.003416335317700238, 'sports'),\n",
              " (0.0034087593862374608, 'rejectedcalls'),\n",
              " (0.0030100232208840794, 'incomingcalls'),\n",
              " (0.002406754250520225, 'whatsappinvoice'),\n",
              " (0.0019423711322211147, 'missedcalls'),\n",
              " (0.0018030210219646449, 'medical'),\n",
              " (0.001093535760780801, 'whatsappoutvideo'),\n",
              " (0.0007620665530618755, 'profession_selfemployed'),\n",
              " (0.0007431972506594645, 'adventure'),\n",
              " (0.0006590900095740468, 'librariesdemo'),\n",
              " (0.0005752265044113067, 'running'),\n",
              " (0.0005660433323518634, 'newsmagazines'),\n",
              " (0.0005469121516418902, 'music'),\n",
              " (0.0005000885023065303, 'artdesign'),\n",
              " (0.0003965288127732474, 'profession_parttimeworker'),\n",
              " (0.0003527930535165695, 'autovehicles'),\n",
              " (0.0002974331152013541, 'whatsappoutvoice'),\n",
              " (0.00029013161410041446, 'whatsappinvideo'),\n",
              " (0.0002844359519637507, 'househome'),\n",
              " (0.0002741858610650656, 'weather'),\n",
              " (0.0002536648857640983, 'educational'),\n",
              " (0.00018038464940142544, 'simulation'),\n",
              " (0.00010127648599485854, 'biking'),\n",
              " (8.470063356972255e-05, 'beauty'),\n",
              " (7.376128657510829e-05, 'events'),\n",
              " (3.682518053759201e-05, 'booksreference'),\n",
              " (2.1490383061537882e-05, 'puzzle'),\n",
              " (2.4864621547458705e-06, 'arcade'),\n",
              " (1.4840965193548055e-06, 'card'),\n",
              " (0.0, 'running(treadmill)'),\n",
              " (0.0, 'residence'),\n",
              " (0.0, 'parenting'),\n",
              " (0.0, 'comics'),\n",
              " (0.0, 'board'),\n",
              " (0.0, 'action')]"
            ]
          },
          "metadata": {},
          "execution_count": 20
        }
      ]
    }
  ]
}